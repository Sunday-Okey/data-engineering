{
 "cells": [
  {
   "cell_type": "markdown",
   "id": "add0dd75",
   "metadata": {},
   "source": [
    "## Introduction to Modeling"
   ]
  },
  {
   "cell_type": "markdown",
   "id": "c3b47bc3",
   "metadata": {},
   "source": [
    "https://www.youtube.com/watch?v=c7G8sMId7KM"
   ]
  },
  {
   "cell_type": "markdown",
   "id": "2171adcf",
   "metadata": {},
   "source": [
    "Course Introduction\n",
    "\n",
    "Welcome to Data Modeling! In this course, you’ll learn to create relational and NoSQL data models to fit the diverse needs of data consumers. You’ll understand the differences between different data models, and how to choose the appropriate data model for a given situation. You’ll also build fluency in PostgreSQL and Apache Cassandra"
   ]
  },
  {
   "cell_type": "markdown",
   "id": "1dff2233",
   "metadata": {},
   "source": [
    "In this course you will learn:\n",
    "\n",
    "- What is a data model\n",
    "\n",
    "- Properties of relational and NoSQL databases\n",
    "- How to create relational data models\n",
    "- How to create NoSQL data models"
   ]
  },
  {
   "cell_type": "markdown",
   "id": "dc81429f",
   "metadata": {},
   "source": [
    "Prerequisites\n",
    "\n",
    "To be successful in this course, you'll need these prerequisite skills and experience:\n",
    "\n",
    "- Intermediate SQL skills\n",
    "- Intermediate Python programming skills."
   ]
  },
  {
   "cell_type": "markdown",
   "id": "5c2a2132",
   "metadata": {},
   "source": [
    "Lesson Overview\n",
    "In this lesson, we'll cover:\n",
    "\n",
    "- Data modeling for relational and NoSQL databases\n",
    "- An introduction to data modeling for relational databases with PostgreSQL\n",
    "- An introduction to data modeling for NoSQL databases with Apache Cassandra"
   ]
  },
  {
   "cell_type": "markdown",
   "id": "2c11cd70",
   "metadata": {},
   "source": [
    "Introduction to Databases and DBMS\n",
    "\n",
    "Databases: A database(opens in a new tab) is a structured repository or collection of data that is stored and retrieved electronically for use in applications. Data can be stored, updated, or deleted from a database.\n",
    "\n",
    "Database Management System (DBMS): The software used to access the database by the user and application is the database management system. Check out these few links describing a DBMS in more detail."
   ]
  },
  {
   "cell_type": "code",
   "execution_count": null,
   "id": "a7912e73",
   "metadata": {},
   "outputs": [],
   "source": []
  }
 ],
 "metadata": {
  "kernelspec": {
   "display_name": "Python 3 (ipykernel)",
   "language": "python",
   "name": "python3"
  },
  "language_info": {
   "codemirror_mode": {
    "name": "ipython",
    "version": 3
   },
   "file_extension": ".py",
   "mimetype": "text/x-python",
   "name": "python",
   "nbconvert_exporter": "python",
   "pygments_lexer": "ipython3",
   "version": "3.10.9"
  }
 },
 "nbformat": 4,
 "nbformat_minor": 5
}
